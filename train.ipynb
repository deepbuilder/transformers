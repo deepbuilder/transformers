{
 "cells": [
  {
   "cell_type": "code",
   "execution_count": 1,
   "metadata": {},
   "outputs": [],
   "source": [
    "data_url = \"https://raw.githubusercontent.com/karpathy/char-rnn/master/data/tinyshakespeare/input.txt\"\n",
    "\n",
    "import requests\n",
    "\n",
    "response = requests.get(data_url)\n",
    "\n",
    "with open(\"toy_data/input.txt\", \"w\") as file:\n",
    "    file.write(response.text)"
   ]
  },
  {
   "cell_type": "code",
   "execution_count": 2,
   "metadata": {},
   "outputs": [],
   "source": [
    "# Read the data\n",
    "with open(\"toy_data/input.txt\", \"r\") as file:\n",
    "    data = file.read()"
   ]
  },
  {
   "cell_type": "code",
   "execution_count": 3,
   "metadata": {},
   "outputs": [],
   "source": [
    "# Unique chars in the data\n",
    "chars = sorted(set(data))"
   ]
  },
  {
   "cell_type": "code",
   "execution_count": 4,
   "metadata": {},
   "outputs": [],
   "source": [
    "char_to_digit = {c: idx for idx, c in enumerate(chars)}\n",
    "digit_to_char = {idx:c for c, idx in char_to_digit.items()}"
   ]
  },
  {
   "cell_type": "code",
   "execution_count": 5,
   "metadata": {},
   "outputs": [],
   "source": [
    "vocab_size = len(chars)"
   ]
  },
  {
   "cell_type": "code",
   "execution_count": 7,
   "metadata": {},
   "outputs": [],
   "source": [
    "def encode(word):\n",
    "    return [char_to_digit[c] for c in word]\n",
    "\n",
    "def decode(indices):\n",
    "    return [digit_to_char[idx] for idx in indices]"
   ]
  },
  {
   "cell_type": "code",
   "execution_count": 8,
   "metadata": {},
   "outputs": [],
   "source": [
    "import torch\n",
    "\n",
    "dataset = torch.tensor(encode(data), dtype=torch.long)"
   ]
  },
  {
   "cell_type": "code",
   "execution_count": 20,
   "metadata": {},
   "outputs": [],
   "source": [
    "train_ratio =0.9\n",
    "\n",
    "n = int(len(dataset)*train_ratio)\n",
    "\n",
    "train_dataset = dataset[:n]\n",
    "val_dataset = dataset[n:]\n"
   ]
  },
  {
   "cell_type": "code",
   "execution_count": 30,
   "metadata": {},
   "outputs": [
    {
     "data": {
      "text/plain": [
       "<torch._C.Generator at 0x11eccef50>"
      ]
     },
     "execution_count": 30,
     "metadata": {},
     "output_type": "execute_result"
    }
   ],
   "source": [
    "import random\n",
    "import numpy as np\n",
    "\n",
    "random.seed(42)\n",
    "np.random.seed(42)\n",
    "torch.manual_seed(42)"
   ]
  },
  {
   "cell_type": "code",
   "execution_count": 27,
   "metadata": {},
   "outputs": [],
   "source": [
    "pad_token = '<pad>'\n",
    "\n",
    "def fetch_dataset(type='train', seq_len=100):\n",
    "    if type == 'train':\n",
    "        features, labels = [], []\n",
    "        for i in range(0, len(train_dataset)-seq_len, seq_len):\n",
    "            start, end = i, i+seq_len-1\n",
    "\n",
    "            for j in range(start, end+1):\n",
    "                features.append(train_dataset[:j+1])\n",
    "                labels.append(train_dataset[j])\n",
    "\n",
    "            torch.shuffle\n",
    "\n",
    "        return torch.stack(features), torch.stack(labels)\n",
    "    \n",
    "    if type == 'val':\n",
    "        features, labels = [], []\n",
    "        for i in range(0, len(val_dataset)-seq_len, seq_len):\n",
    "            start, end = i, i+seq_len-1\n",
    "\n",
    "            for j in range(start, end+1):\n",
    "                features.append(val_dataset[:j+1])\n",
    "                labels.append(val_dataset[j])\n",
    "        return features, labels"
   ]
  },
  {
   "cell_type": "code",
   "execution_count": 28,
   "metadata": {},
   "outputs": [],
   "source": [
    "train_data, train_labels = fetch_dataset('train')\n",
    "val_data, val_labels = fetch_dataset('val')"
   ]
  },
  {
   "cell_type": "code",
   "execution_count": null,
   "metadata": {},
   "outputs": [],
   "source": []
  }
 ],
 "metadata": {
  "kernelspec": {
   "display_name": ".venv",
   "language": "python",
   "name": "python3"
  },
  "language_info": {
   "codemirror_mode": {
    "name": "ipython",
    "version": 3
   },
   "file_extension": ".py",
   "mimetype": "text/x-python",
   "name": "python",
   "nbconvert_exporter": "python",
   "pygments_lexer": "ipython3",
   "version": "3.13.5"
  }
 },
 "nbformat": 4,
 "nbformat_minor": 2
}
